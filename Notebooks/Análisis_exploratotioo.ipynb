{
 "cells": [
  {
   "cell_type": "markdown",
   "metadata": {},
   "source": [
    "Exploratory Analysis of National Survey on Discrimination\n",
    "ENADIS 2017 (Women)"
   ]
  },
  {
   "cell_type": "code",
   "execution_count": 48,
   "metadata": {},
   "outputs": [],
   "source": [
    "#librerias\n",
    "import imp\n",
    "import pandas as pd\n",
    "import matplotlib.pyplot as plt\n",
    "import numpy as np\n",
    "import seaborn as sns\n",
    "import mysql.connector \n",
    "%matplotlib inline\n",
    "\n",
    "plt.rcParams[\"figure.facecolor\"]='white'"
   ]
  },
  {
   "cell_type": "markdown",
   "metadata": {},
   "source": [
    "In this project, a SQL database was used with tables of the catalogs of responses and results of the survey."
   ]
  },
  {
   "cell_type": "code",
   "execution_count": 49,
   "metadata": {},
   "outputs": [],
   "source": [
    "#conexion with MySQL\n",
    "host='127.0.0.1'\n",
    "user='python'\n",
    "db='inegi'\n",
    "connection=mysql.connector.connect(\n",
    "    host=host,\n",
    "    user=user,\n",
    "    database=db\n",
    "    )"
   ]
  },
  {
   "cell_type": "code",
   "execution_count": 50,
   "metadata": {},
   "outputs": [
    {
     "name": "stderr",
     "output_type": "stream",
     "text": [
      "d:\\DIEGO\\anaconda3\\lib\\site-packages\\pandas\\io\\sql.py:761: UserWarning: pandas only support SQLAlchemy connectable(engine/connection) ordatabase string URI or sqlite3 DBAPI2 connectionother DBAPI2 objects are not tested, please consider using SQLAlchemy\n",
      "  warnings.warn(\n"
     ]
    },
    {
     "data": {
      "text/html": [
       "<div>\n",
       "<style scoped>\n",
       "    .dataframe tbody tr th:only-of-type {\n",
       "        vertical-align: middle;\n",
       "    }\n",
       "\n",
       "    .dataframe tbody tr th {\n",
       "        vertical-align: top;\n",
       "    }\n",
       "\n",
       "    .dataframe thead th {\n",
       "        text-align: right;\n",
       "    }\n",
       "</style>\n",
       "<table border=\"1\" class=\"dataframe\">\n",
       "  <thead>\n",
       "    <tr style=\"text-align: right;\">\n",
       "      <th></th>\n",
       "      <th>upm</th>\n",
       "      <th>viv_sel</th>\n",
       "      <th>hogar</th>\n",
       "      <th>n_ren</th>\n",
       "      <th>pm7_1</th>\n",
       "      <th>pm7_2</th>\n",
       "      <th>pm7_3_1</th>\n",
       "      <th>pm7_3_2</th>\n",
       "      <th>pm7_3_3</th>\n",
       "      <th>pm7_3_4</th>\n",
       "      <th>...</th>\n",
       "      <th>pm7_5</th>\n",
       "      <th>pm7_6</th>\n",
       "      <th>factor_per</th>\n",
       "      <th>upm_dis</th>\n",
       "      <th>est_dis</th>\n",
       "      <th>tloc</th>\n",
       "      <th>estrato</th>\n",
       "      <th>ent</th>\n",
       "      <th>sexo</th>\n",
       "      <th>edad</th>\n",
       "    </tr>\n",
       "  </thead>\n",
       "  <tbody>\n",
       "    <tr>\n",
       "      <th>0</th>\n",
       "      <td>100040</td>\n",
       "      <td>2</td>\n",
       "      <td>1</td>\n",
       "      <td>1</td>\n",
       "      <td>2</td>\n",
       "      <td>4</td>\n",
       "      <td>2</td>\n",
       "      <td>1</td>\n",
       "      <td>2</td>\n",
       "      <td>2</td>\n",
       "      <td>...</td>\n",
       "      <td>3</td>\n",
       "      <td>0</td>\n",
       "      <td>186</td>\n",
       "      <td>1</td>\n",
       "      <td>2</td>\n",
       "      <td>1</td>\n",
       "      <td>3</td>\n",
       "      <td>1</td>\n",
       "      <td>2</td>\n",
       "      <td>66</td>\n",
       "    </tr>\n",
       "    <tr>\n",
       "      <th>1</th>\n",
       "      <td>100040</td>\n",
       "      <td>2</td>\n",
       "      <td>1</td>\n",
       "      <td>2</td>\n",
       "      <td>2</td>\n",
       "      <td>6</td>\n",
       "      <td>2</td>\n",
       "      <td>2</td>\n",
       "      <td>2</td>\n",
       "      <td>2</td>\n",
       "      <td>...</td>\n",
       "      <td>2</td>\n",
       "      <td>0</td>\n",
       "      <td>186</td>\n",
       "      <td>1</td>\n",
       "      <td>2</td>\n",
       "      <td>1</td>\n",
       "      <td>3</td>\n",
       "      <td>1</td>\n",
       "      <td>2</td>\n",
       "      <td>55</td>\n",
       "    </tr>\n",
       "    <tr>\n",
       "      <th>2</th>\n",
       "      <td>100040</td>\n",
       "      <td>3</td>\n",
       "      <td>1</td>\n",
       "      <td>2</td>\n",
       "      <td>3</td>\n",
       "      <td>5</td>\n",
       "      <td>2</td>\n",
       "      <td>2</td>\n",
       "      <td>2</td>\n",
       "      <td>2</td>\n",
       "      <td>...</td>\n",
       "      <td>2</td>\n",
       "      <td>0</td>\n",
       "      <td>209</td>\n",
       "      <td>1</td>\n",
       "      <td>2</td>\n",
       "      <td>1</td>\n",
       "      <td>3</td>\n",
       "      <td>1</td>\n",
       "      <td>2</td>\n",
       "      <td>28</td>\n",
       "    </tr>\n",
       "    <tr>\n",
       "      <th>3</th>\n",
       "      <td>100040</td>\n",
       "      <td>4</td>\n",
       "      <td>1</td>\n",
       "      <td>3</td>\n",
       "      <td>4</td>\n",
       "      <td>1</td>\n",
       "      <td>1</td>\n",
       "      <td>1</td>\n",
       "      <td>2</td>\n",
       "      <td>2</td>\n",
       "      <td>...</td>\n",
       "      <td>2</td>\n",
       "      <td>1</td>\n",
       "      <td>186</td>\n",
       "      <td>1</td>\n",
       "      <td>2</td>\n",
       "      <td>1</td>\n",
       "      <td>3</td>\n",
       "      <td>1</td>\n",
       "      <td>2</td>\n",
       "      <td>42</td>\n",
       "    </tr>\n",
       "    <tr>\n",
       "      <th>4</th>\n",
       "      <td>100040</td>\n",
       "      <td>4</td>\n",
       "      <td>1</td>\n",
       "      <td>4</td>\n",
       "      <td>9</td>\n",
       "      <td>0</td>\n",
       "      <td>0</td>\n",
       "      <td>0</td>\n",
       "      <td>0</td>\n",
       "      <td>0</td>\n",
       "      <td>...</td>\n",
       "      <td>0</td>\n",
       "      <td>0</td>\n",
       "      <td>186</td>\n",
       "      <td>1</td>\n",
       "      <td>2</td>\n",
       "      <td>1</td>\n",
       "      <td>3</td>\n",
       "      <td>1</td>\n",
       "      <td>2</td>\n",
       "      <td>83</td>\n",
       "    </tr>\n",
       "    <tr>\n",
       "      <th>...</th>\n",
       "      <td>...</td>\n",
       "      <td>...</td>\n",
       "      <td>...</td>\n",
       "      <td>...</td>\n",
       "      <td>...</td>\n",
       "      <td>...</td>\n",
       "      <td>...</td>\n",
       "      <td>...</td>\n",
       "      <td>...</td>\n",
       "      <td>...</td>\n",
       "      <td>...</td>\n",
       "      <td>...</td>\n",
       "      <td>...</td>\n",
       "      <td>...</td>\n",
       "      <td>...</td>\n",
       "      <td>...</td>\n",
       "      <td>...</td>\n",
       "      <td>...</td>\n",
       "      <td>...</td>\n",
       "      <td>...</td>\n",
       "      <td>...</td>\n",
       "    </tr>\n",
       "    <tr>\n",
       "      <th>9360</th>\n",
       "      <td>905085</td>\n",
       "      <td>2</td>\n",
       "      <td>1</td>\n",
       "      <td>4</td>\n",
       "      <td>1</td>\n",
       "      <td>1</td>\n",
       "      <td>2</td>\n",
       "      <td>2</td>\n",
       "      <td>2</td>\n",
       "      <td>2</td>\n",
       "      <td>...</td>\n",
       "      <td>2</td>\n",
       "      <td>0</td>\n",
       "      <td>8285</td>\n",
       "      <td>1422</td>\n",
       "      <td>102</td>\n",
       "      <td>1</td>\n",
       "      <td>2</td>\n",
       "      <td>9</td>\n",
       "      <td>2</td>\n",
       "      <td>21</td>\n",
       "    </tr>\n",
       "    <tr>\n",
       "      <th>9361</th>\n",
       "      <td>905085</td>\n",
       "      <td>4</td>\n",
       "      <td>1</td>\n",
       "      <td>3</td>\n",
       "      <td>1</td>\n",
       "      <td>4</td>\n",
       "      <td>1</td>\n",
       "      <td>1</td>\n",
       "      <td>1</td>\n",
       "      <td>1</td>\n",
       "      <td>...</td>\n",
       "      <td>3</td>\n",
       "      <td>8</td>\n",
       "      <td>1591</td>\n",
       "      <td>1422</td>\n",
       "      <td>102</td>\n",
       "      <td>1</td>\n",
       "      <td>2</td>\n",
       "      <td>9</td>\n",
       "      <td>2</td>\n",
       "      <td>68</td>\n",
       "    </tr>\n",
       "    <tr>\n",
       "      <th>9362</th>\n",
       "      <td>905239</td>\n",
       "      <td>1</td>\n",
       "      <td>1</td>\n",
       "      <td>2</td>\n",
       "      <td>1</td>\n",
       "      <td>2</td>\n",
       "      <td>1</td>\n",
       "      <td>2</td>\n",
       "      <td>1</td>\n",
       "      <td>2</td>\n",
       "      <td>...</td>\n",
       "      <td>2</td>\n",
       "      <td>0</td>\n",
       "      <td>941</td>\n",
       "      <td>1423</td>\n",
       "      <td>102</td>\n",
       "      <td>1</td>\n",
       "      <td>2</td>\n",
       "      <td>9</td>\n",
       "      <td>2</td>\n",
       "      <td>33</td>\n",
       "    </tr>\n",
       "    <tr>\n",
       "      <th>9363</th>\n",
       "      <td>905239</td>\n",
       "      <td>2</td>\n",
       "      <td>1</td>\n",
       "      <td>1</td>\n",
       "      <td>3</td>\n",
       "      <td>5</td>\n",
       "      <td>1</td>\n",
       "      <td>2</td>\n",
       "      <td>2</td>\n",
       "      <td>2</td>\n",
       "      <td>...</td>\n",
       "      <td>1</td>\n",
       "      <td>0</td>\n",
       "      <td>941</td>\n",
       "      <td>1423</td>\n",
       "      <td>102</td>\n",
       "      <td>1</td>\n",
       "      <td>2</td>\n",
       "      <td>9</td>\n",
       "      <td>2</td>\n",
       "      <td>37</td>\n",
       "    </tr>\n",
       "    <tr>\n",
       "      <th>9364</th>\n",
       "      <td>905239</td>\n",
       "      <td>2</td>\n",
       "      <td>1</td>\n",
       "      <td>4</td>\n",
       "      <td>3</td>\n",
       "      <td>5</td>\n",
       "      <td>2</td>\n",
       "      <td>2</td>\n",
       "      <td>2</td>\n",
       "      <td>2</td>\n",
       "      <td>...</td>\n",
       "      <td>3</td>\n",
       "      <td>0</td>\n",
       "      <td>941</td>\n",
       "      <td>1423</td>\n",
       "      <td>102</td>\n",
       "      <td>1</td>\n",
       "      <td>2</td>\n",
       "      <td>9</td>\n",
       "      <td>2</td>\n",
       "      <td>18</td>\n",
       "    </tr>\n",
       "  </tbody>\n",
       "</table>\n",
       "<p>9365 rows × 26 columns</p>\n",
       "</div>"
      ],
      "text/plain": [
       "         upm  viv_sel  hogar  n_ren  pm7_1  pm7_2  pm7_3_1  pm7_3_2  pm7_3_3  \\\n",
       "0     100040        2      1      1      2      4        2        1        2   \n",
       "1     100040        2      1      2      2      6        2        2        2   \n",
       "2     100040        3      1      2      3      5        2        2        2   \n",
       "3     100040        4      1      3      4      1        1        1        2   \n",
       "4     100040        4      1      4      9      0        0        0        0   \n",
       "...      ...      ...    ...    ...    ...    ...      ...      ...      ...   \n",
       "9360  905085        2      1      4      1      1        2        2        2   \n",
       "9361  905085        4      1      3      1      4        1        1        1   \n",
       "9362  905239        1      1      2      1      2        1        2        1   \n",
       "9363  905239        2      1      1      3      5        1        2        2   \n",
       "9364  905239        2      1      4      3      5        2        2        2   \n",
       "\n",
       "      pm7_3_4  ...  pm7_5  pm7_6  factor_per  upm_dis  est_dis  tloc  estrato  \\\n",
       "0           2  ...      3      0         186        1        2     1        3   \n",
       "1           2  ...      2      0         186        1        2     1        3   \n",
       "2           2  ...      2      0         209        1        2     1        3   \n",
       "3           2  ...      2      1         186        1        2     1        3   \n",
       "4           0  ...      0      0         186        1        2     1        3   \n",
       "...       ...  ...    ...    ...         ...      ...      ...   ...      ...   \n",
       "9360        2  ...      2      0        8285     1422      102     1        2   \n",
       "9361        1  ...      3      8        1591     1422      102     1        2   \n",
       "9362        2  ...      2      0         941     1423      102     1        2   \n",
       "9363        2  ...      1      0         941     1423      102     1        2   \n",
       "9364        2  ...      3      0         941     1423      102     1        2   \n",
       "\n",
       "      ent  sexo  edad  \n",
       "0       1     2    66  \n",
       "1       1     2    55  \n",
       "2       1     2    28  \n",
       "3       1     2    42  \n",
       "4       1     2    83  \n",
       "...   ...   ...   ...  \n",
       "9360    9     2    21  \n",
       "9361    9     2    68  \n",
       "9362    9     2    33  \n",
       "9363    9     2    37  \n",
       "9364    9     2    18  \n",
       "\n",
       "[9365 rows x 26 columns]"
      ]
     },
     "execution_count": 50,
     "metadata": {},
     "output_type": "execute_result"
    }
   ],
   "source": [
    "#table of results\n",
    "table='SELECT * FROM conjunto_de_datos_tmujer_enadis_2017'\n",
    "data=pd.read_sql(table, connection)\n",
    "data"
   ]
  },
  {
   "cell_type": "markdown",
   "metadata": {},
   "source": [
    "The answer catalogs contain the meaning of each key\n",
    "\n",
    "The survey consisted of various questions coded as pm_7_n where the number 7 corresponds to the section for women and n the question number of said section"
   ]
  },
  {
   "cell_type": "code",
   "execution_count": 51,
   "metadata": {},
   "outputs": [
    {
     "name": "stderr",
     "output_type": "stream",
     "text": [
      "d:\\DIEGO\\anaconda3\\lib\\site-packages\\pandas\\io\\sql.py:761: UserWarning: pandas only support SQLAlchemy connectable(engine/connection) ordatabase string URI or sqlite3 DBAPI2 connectionother DBAPI2 objects are not tested, please consider using SQLAlchemy\n",
      "  warnings.warn(\n"
     ]
    },
    {
     "data": {
      "text/html": [
       "<div>\n",
       "<style scoped>\n",
       "    .dataframe tbody tr th:only-of-type {\n",
       "        vertical-align: middle;\n",
       "    }\n",
       "\n",
       "    .dataframe tbody tr th {\n",
       "        vertical-align: top;\n",
       "    }\n",
       "\n",
       "    .dataframe thead th {\n",
       "        text-align: right;\n",
       "    }\n",
       "</style>\n",
       "<table border=\"1\" class=\"dataframe\">\n",
       "  <thead>\n",
       "    <tr style=\"text-align: right;\">\n",
       "      <th></th>\n",
       "      <th>cve</th>\n",
       "      <th>descrip</th>\n",
       "    </tr>\n",
       "  </thead>\n",
       "  <tbody>\n",
       "    <tr>\n",
       "      <th>0</th>\n",
       "      <td>1</td>\n",
       "      <td>Mucho</td>\n",
       "    </tr>\n",
       "    <tr>\n",
       "      <th>1</th>\n",
       "      <td>2</td>\n",
       "      <td>Algo</td>\n",
       "    </tr>\n",
       "    <tr>\n",
       "      <th>2</th>\n",
       "      <td>3</td>\n",
       "      <td>Poco</td>\n",
       "    </tr>\n",
       "    <tr>\n",
       "      <th>3</th>\n",
       "      <td>4</td>\n",
       "      <td>Nada</td>\n",
       "    </tr>\n",
       "    <tr>\n",
       "      <th>4</th>\n",
       "      <td>9</td>\n",
       "      <td>No sabe</td>\n",
       "    </tr>\n",
       "  </tbody>\n",
       "</table>\n",
       "</div>"
      ],
      "text/plain": [
       "   cve  descrip\n",
       "0    1    Mucho\n",
       "1    2     Algo\n",
       "2    3     Poco\n",
       "3    4     Nada\n",
       "4    9  No sabe"
      ]
     },
     "execution_count": 51,
     "metadata": {},
     "output_type": "execute_result"
    }
   ],
   "source": [
    "diccionario_pm_7='SELECT * FROM pm7_1'\n",
    "pd.read_sql(diccionario_pm_7,connection)"
   ]
  },
  {
   "cell_type": "markdown",
   "metadata": {},
   "source": [
    "To perform the SQL queries, we used RIGHT JOIN between the catalogs and the results tables\n",
    "\n",
    "Starting with the questions"
   ]
  },
  {
   "cell_type": "code",
   "execution_count": 52,
   "metadata": {},
   "outputs": [
    {
     "name": "stderr",
     "output_type": "stream",
     "text": [
      "d:\\DIEGO\\anaconda3\\lib\\site-packages\\pandas\\io\\sql.py:761: UserWarning: pandas only support SQLAlchemy connectable(engine/connection) ordatabase string URI or sqlite3 DBAPI2 connectionother DBAPI2 objects are not tested, please consider using SQLAlchemy\n",
      "  warnings.warn(\n"
     ]
    },
    {
     "data": {
      "image/png": "[encoded data removed]",
      "text/plain": [
       "<Figure size 432x288 with 1 Axes>"
      ]
     },
     "metadata": {},
     "output_type": "display_data"
    }
   ],
   "source": [
    "#query\n",
    "value_counts_pm7=\"\"\"SELECT c.descrip, COUNT(d.pm7_1) as cuenta FROM pm7_1 as c RIGHT\n",
    "JOIN conjunto_de_datos_tmujer_enadis_2017 as d\n",
    "ON c.cve=d.pm7_1 GROUP BY d.pm7_1\"\"\"\n",
    "\n",
    "#read query to DataFrame\n",
    "value_counts_pm7=pd.read_sql(value_counts_pm7,connection)\n",
    "value_counts_pm7\n",
    "value_counts_pm7=value_counts_pm7.sort_values('cuenta', ascending=True)\n",
    "\n",
    "\n",
    "#plot results\n",
    "sns.barplot(x=value_counts_pm7['cuenta'],\n",
    "            y=value_counts_pm7['descrip'],\n",
    "            data=value_counts_pm7,\n",
    "            palette='rocket_r'\n",
    "            )\n",
    "            \n",
    "plt.xlabel('')\n",
    "plt.ylabel('')\n",
    "plt.xticks(rotation=0) #ha='right' )\n",
    "sns.despine()\n",
    "plt.title('7.1 En su opinión, en el país, ¿los derechos de las mujeres se respetan: mucho, algo, poco o nada?')\n",
    "plt.savefig('/DIEGO/Documents/CODIGO/Discriminación en mujeres/Gráficas/pregunta7_1.png',bbox_inches='tight')\n"
   ]
  },
  {
   "cell_type": "code",
   "execution_count": 53,
   "metadata": {},
   "outputs": [
    {
     "name": "stderr",
     "output_type": "stream",
     "text": [
      "d:\\DIEGO\\anaconda3\\lib\\site-packages\\pandas\\io\\sql.py:761: UserWarning: pandas only support SQLAlchemy connectable(engine/connection) ordatabase string URI or sqlite3 DBAPI2 connectionother DBAPI2 objects are not tested, please consider using SQLAlchemy\n",
      "  warnings.warn(\n"
     ]
    },
    {
     "data": {
      "image/png": "[encoded data removed]",
      "text/plain": [
       "<Figure size 432x288 with 1 Axes>"
      ]
     },
     "metadata": {},
     "output_type": "display_data"
    }
   ],
   "source": [
    "#query\n",
    "value_counts_pm7_2=\"\"\"SELECT c.descrip, COUNT(d.pm7_2) as cuenta FROM pm7_2 as c RIGHT\n",
    "JOIN conjunto_de_datos_tmujer_enadis_2017 as d\n",
    "ON c.cve=d.pm7_2 GROUP BY d.pm7_2\"\"\"\n",
    "\n",
    "#read query to DataFrame\n",
    "value_counts_pm7_2=pd.read_sql(value_counts_pm7_2,connection)\n",
    "value_counts_pm7_2=value_counts_pm7_2.sort_values('cuenta', ascending=True)\n",
    "\n",
    "#plot results\n",
    "sns.barplot(x=value_counts_pm7_2['cuenta'],\n",
    "            y=value_counts_pm7_2['descrip'],\n",
    "            data=value_counts_pm7_2,\n",
    "            palette='rocket_r',\n",
    "            )\n",
    "\n",
    "plt.xlabel('')\n",
    "plt.ylabel('')\n",
    "sns.despine()\n",
    "plt.title('7.2 De las siguientes opciones, ¿cuál considera que es el principal problema para las mujeres en el país, hoy en día?')\n",
    "plt.savefig('/DIEGO/Documents/CODIGO/Discriminación en mujeres/Gráficas/pregunta7_2.png',bbox_inches='tight')"
   ]
  },
  {
   "cell_type": "markdown",
   "metadata": {},
   "source": [
    " Question three consisted of statements with which the respondents had to say whether or not they agreed with it"
   ]
  },
  {
   "cell_type": "code",
   "execution_count": 54,
   "metadata": {},
   "outputs": [],
   "source": [
    "#querys for each statements\n",
    "value_counts_pm7_3=[]\n",
    "for i in range(1,6):\n",
    "    query=\"\"\"SELECT c.descrip, COUNT(d.pm7_3_{}) as cuenta FROM pm7_3 as c RIGHT\n",
    "    JOIN conjunto_de_datos_tmujer_enadis_2017 as d\n",
    "    ON c.cve=d.pm7_3_{} GROUP BY d.pm7_3_{}\"\"\".format(i,i,i)\n",
    "    value_counts_pm7_3.append(query)    "
   ]
  },
  {
   "cell_type": "code",
   "execution_count": 55,
   "metadata": {},
   "outputs": [
    {
     "data": {
      "text/plain": [
       "['SELECT c.descrip, COUNT(d.pm7_3_1) as cuenta FROM pm7_3 as c RIGHT\\n    JOIN conjunto_de_datos_tmujer_enadis_2017 as d\\n    ON c.cve=d.pm7_3_1 GROUP BY d.pm7_3_1',\n",
       " 'SELECT c.descrip, COUNT(d.pm7_3_2) as cuenta FROM pm7_3 as c RIGHT\\n    JOIN conjunto_de_datos_tmujer_enadis_2017 as d\\n    ON c.cve=d.pm7_3_2 GROUP BY d.pm7_3_2',\n",
       " 'SELECT c.descrip, COUNT(d.pm7_3_3) as cuenta FROM pm7_3 as c RIGHT\\n    JOIN conjunto_de_datos_tmujer_enadis_2017 as d\\n    ON c.cve=d.pm7_3_3 GROUP BY d.pm7_3_3',\n",
       " 'SELECT c.descrip, COUNT(d.pm7_3_4) as cuenta FROM pm7_3 as c RIGHT\\n    JOIN conjunto_de_datos_tmujer_enadis_2017 as d\\n    ON c.cve=d.pm7_3_4 GROUP BY d.pm7_3_4',\n",
       " 'SELECT c.descrip, COUNT(d.pm7_3_5) as cuenta FROM pm7_3 as c RIGHT\\n    JOIN conjunto_de_datos_tmujer_enadis_2017 as d\\n    ON c.cve=d.pm7_3_5 GROUP BY d.pm7_3_5']"
      ]
     },
     "execution_count": 55,
     "metadata": {},
     "output_type": "execute_result"
    }
   ],
   "source": [
    "value_counts_pm7_3"
   ]
  },
  {
   "cell_type": "code",
   "execution_count": 56,
   "metadata": {},
   "outputs": [
    {
     "name": "stderr",
     "output_type": "stream",
     "text": [
      "d:\\DIEGO\\anaconda3\\lib\\site-packages\\pandas\\io\\sql.py:761: UserWarning: pandas only support SQLAlchemy connectable(engine/connection) ordatabase string URI or sqlite3 DBAPI2 connectionother DBAPI2 objects are not tested, please consider using SQLAlchemy\n",
      "  warnings.warn(\n",
      "d:\\DIEGO\\anaconda3\\lib\\site-packages\\pandas\\io\\sql.py:761: UserWarning: pandas only support SQLAlchemy connectable(engine/connection) ordatabase string URI or sqlite3 DBAPI2 connectionother DBAPI2 objects are not tested, please consider using SQLAlchemy\n",
      "  warnings.warn(\n",
      "d:\\DIEGO\\anaconda3\\lib\\site-packages\\pandas\\io\\sql.py:761: UserWarning: pandas only support SQLAlchemy connectable(engine/connection) ordatabase string URI or sqlite3 DBAPI2 connectionother DBAPI2 objects are not tested, please consider using SQLAlchemy\n",
      "  warnings.warn(\n",
      "d:\\DIEGO\\anaconda3\\lib\\site-packages\\pandas\\io\\sql.py:761: UserWarning: pandas only support SQLAlchemy connectable(engine/connection) ordatabase string URI or sqlite3 DBAPI2 connectionother DBAPI2 objects are not tested, please consider using SQLAlchemy\n",
      "  warnings.warn(\n",
      "d:\\DIEGO\\anaconda3\\lib\\site-packages\\pandas\\io\\sql.py:761: UserWarning: pandas only support SQLAlchemy connectable(engine/connection) ordatabase string URI or sqlite3 DBAPI2 connectionother DBAPI2 objects are not tested, please consider using SQLAlchemy\n",
      "  warnings.warn(\n"
     ]
    },
    {
     "data": {
      "text/plain": [
       "<Figure size 7200x50400 with 0 Axes>"
      ]
     },
     "metadata": {},
     "output_type": "display_data"
    },
    {
     "data": {
      "image/png": "[encoded data removed]",
      "text/plain": [
       "<Figure size 2520x216 with 5 Axes>"
      ]
     },
     "metadata": {},
     "output_type": "display_data"
    }
   ],
   "source": [
    "#a single figure for all statements\n",
    "plt.figure(figsize=(100,700))\n",
    "fig, axes= plt.subplots(1,5,sharex=True, figsize=(35,3))\n",
    "i=0\n",
    "preguntas=['1. Lo más importante para una mujer\\n es ser madre',\n",
    "           '2. El hombre debe ser el principal\\n proveedor del hogar',\n",
    "           '3. Los quehaceres domésticos deben hacerlos \\n principalmente las mujeres',\n",
    "           '4. Las mujeres tienen menor capacidad \\n que los hombres en cargos directivos',\n",
    "           '5. Las mujeres deben tener menor libertad\\n que los hombres']\n",
    "\n",
    "\n",
    "for query in value_counts_pm7_3:\n",
    "\n",
    "    value_counts_pm7_3_plot=pd.read_sql(query,connection)\n",
    "   # value_counts_pm7_3_plot=value_counts_pm7_3_plot.sort_values('cuenta', ascending=True)\n",
    "\n",
    "\n",
    "    sns.barplot(ax=axes[i],\n",
    "                x=value_counts_pm7_3_plot['cuenta'],\n",
    "                y=value_counts_pm7_3_plot['descrip'], \n",
    "                data=value_counts_pm7_3_plot,\n",
    "                palette='rocket'\n",
    "                ) \n",
    "    \n",
    "    axes[i].set_xlabel(preguntas[i], fontsize=15)\n",
    "    axes[i].set_ylabel('')\n",
    "    \n",
    "    if i!=0:\n",
    "        axes[i].set_yticks([])\n",
    "    \n",
    "    sns.despine()\n",
    "    \n",
    "    i+=1\n",
    "  \n",
    "fig.subplots_adjust(top=0.85) \n",
    "plt.suptitle('7.3 Dígame si está de acuerdo con las siguientes frases:', fontsize=20, position=(0.5, 1.1))\n",
    "plt.savefig('/DIEGO/Documents/CODIGO/Discriminación en mujeres/Gráficas/pregunta7_3.png',bbox_inches='tight')"
   ]
  },
  {
   "cell_type": "markdown",
   "metadata": {},
   "source": [
    "Because question 4 consists of specific questions with multiple optional answers, we keep only the three most common of each in a dictionary"
   ]
  },
  {
   "cell_type": "code",
   "execution_count": 57,
   "metadata": {},
   "outputs": [
    {
     "name": "stderr",
     "output_type": "stream",
     "text": [
      "d:\\DIEGO\\anaconda3\\lib\\site-packages\\pandas\\io\\sql.py:761: UserWarning: pandas only support SQLAlchemy connectable(engine/connection) ordatabase string URI or sqlite3 DBAPI2 connectionother DBAPI2 objects are not tested, please consider using SQLAlchemy\n",
      "  warnings.warn(\n"
     ]
    },
    {
     "data": {
      "text/html": [
       "<div>\n",
       "<style scoped>\n",
       "    .dataframe tbody tr th:only-of-type {\n",
       "        vertical-align: middle;\n",
       "    }\n",
       "\n",
       "    .dataframe tbody tr th {\n",
       "        vertical-align: top;\n",
       "    }\n",
       "\n",
       "    .dataframe thead th {\n",
       "        text-align: right;\n",
       "    }\n",
       "</style>\n",
       "<table border=\"1\" class=\"dataframe\">\n",
       "  <thead>\n",
       "    <tr style=\"text-align: right;\">\n",
       "      <th></th>\n",
       "      <th>cve</th>\n",
       "      <th>descrip</th>\n",
       "    </tr>\n",
       "  </thead>\n",
       "  <tbody>\n",
       "    <tr>\n",
       "      <th>0</th>\n",
       "      <td>1</td>\n",
       "      <td>Sólo ella</td>\n",
       "    </tr>\n",
       "    <tr>\n",
       "      <th>1</th>\n",
       "      <td>2</td>\n",
       "      <td>Esposo(a), pareja o novio(a)</td>\n",
       "    </tr>\n",
       "    <tr>\n",
       "      <th>2</th>\n",
       "      <td>3</td>\n",
       "      <td>Ambos</td>\n",
       "    </tr>\n",
       "    <tr>\n",
       "      <th>3</th>\n",
       "      <td>4</td>\n",
       "      <td>Familiares (mamá, papá, hermanos(as))</td>\n",
       "    </tr>\n",
       "    <tr>\n",
       "      <th>4</th>\n",
       "      <td>5</td>\n",
       "      <td>Otra(s) persona(s)</td>\n",
       "    </tr>\n",
       "    <tr>\n",
       "      <th>5</th>\n",
       "      <td>6</td>\n",
       "      <td>No aplica</td>\n",
       "    </tr>\n",
       "    <tr>\n",
       "      <th>6</th>\n",
       "      <td>8</td>\n",
       "      <td>No responde</td>\n",
       "    </tr>\n",
       "  </tbody>\n",
       "</table>\n",
       "</div>"
      ],
      "text/plain": [
       "   cve                                descrip\n",
       "0    1                              Sólo ella\n",
       "1    2           Esposo(a), pareja o novio(a)\n",
       "2    3                                  Ambos\n",
       "3    4  Familiares (mamá, papá, hermanos(as))\n",
       "4    5                     Otra(s) persona(s)\n",
       "5    6                              No aplica\n",
       "6    8                            No responde"
      ]
     },
     "execution_count": 57,
     "metadata": {},
     "output_type": "execute_result"
    }
   ],
   "source": [
    "#posible answers\n",
    "diccionario_pm_7_4='SELECT * FROM pm7_4'\n",
    "pd.read_sql(diccionario_pm_7_4,connection)"
   ]
  },
  {
   "cell_type": "code",
   "execution_count": 58,
   "metadata": {},
   "outputs": [],
   "source": [
    "#querys\n",
    "value_counts_pm7_4=[]\n",
    "for i in range(1,6):\n",
    "    query=\"\"\"SELECT c.descrip, COUNT(d.pm7_4_{}) as cuenta FROM pm7_4 as c RIGHT\n",
    "    JOIN conjunto_de_datos_tmujer_enadis_2017 as d\n",
    "    ON c.cve=d.pm7_4_{} GROUP BY d.pm7_4_{} \"\"\".format(i,i,i)\n",
    "    value_counts_pm7_4.append(query)   "
   ]
  },
  {
   "cell_type": "code",
   "execution_count": 59,
   "metadata": {},
   "outputs": [
    {
     "name": "stderr",
     "output_type": "stream",
     "text": [
      "d:\\DIEGO\\anaconda3\\lib\\site-packages\\pandas\\io\\sql.py:761: UserWarning: pandas only support SQLAlchemy connectable(engine/connection) ordatabase string URI or sqlite3 DBAPI2 connectionother DBAPI2 objects are not tested, please consider using SQLAlchemy\n",
      "  warnings.warn(\n",
      "d:\\DIEGO\\anaconda3\\lib\\site-packages\\pandas\\io\\sql.py:761: UserWarning: pandas only support SQLAlchemy connectable(engine/connection) ordatabase string URI or sqlite3 DBAPI2 connectionother DBAPI2 objects are not tested, please consider using SQLAlchemy\n",
      "  warnings.warn(\n",
      "d:\\DIEGO\\anaconda3\\lib\\site-packages\\pandas\\io\\sql.py:761: UserWarning: pandas only support SQLAlchemy connectable(engine/connection) ordatabase string URI or sqlite3 DBAPI2 connectionother DBAPI2 objects are not tested, please consider using SQLAlchemy\n",
      "  warnings.warn(\n",
      "d:\\DIEGO\\anaconda3\\lib\\site-packages\\pandas\\io\\sql.py:761: UserWarning: pandas only support SQLAlchemy connectable(engine/connection) ordatabase string URI or sqlite3 DBAPI2 connectionother DBAPI2 objects are not tested, please consider using SQLAlchemy\n",
      "  warnings.warn(\n",
      "d:\\DIEGO\\anaconda3\\lib\\site-packages\\pandas\\io\\sql.py:761: UserWarning: pandas only support SQLAlchemy connectable(engine/connection) ordatabase string URI or sqlite3 DBAPI2 connectionother DBAPI2 objects are not tested, please consider using SQLAlchemy\n",
      "  warnings.warn(\n"
     ]
    }
   ],
   "source": [
    "#table of most common answers\n",
    "tables_7_4={}\n",
    "preguntas7_4=['1 si puede comprarse cosas para usted (ropa, accesorios, zapatos)?',\n",
    "              '2 si puede salir de su casa?',\n",
    "              '3 si puede reunirse con parientes o amistades?',\n",
    "              '4 si usa métodos anticonceptivos?',\n",
    "              '5 cuántos hijos tener?']\n",
    "i=0\n",
    "\n",
    "for query in value_counts_pm7_4:\n",
    "\n",
    "    value_counts_pm7_4_plot=pd.read_sql(query,connection)\n",
    "    value_counts_pm7_4_plot=value_counts_pm7_4_plot.sort_values('cuenta', ascending=False)\n",
    "    tables_7_4[preguntas7_4[i]]=value_counts_pm7_4_plot.head(n=3)\n",
    "    i+=1"
   ]
  },
  {
   "cell_type": "code",
   "execution_count": 60,
   "metadata": {},
   "outputs": [
    {
     "data": {
      "text/html": [
       "<div>\n",
       "<style scoped>\n",
       "    .dataframe tbody tr th:only-of-type {\n",
       "        vertical-align: middle;\n",
       "    }\n",
       "\n",
       "    .dataframe tbody tr th {\n",
       "        vertical-align: top;\n",
       "    }\n",
       "\n",
       "    .dataframe thead th {\n",
       "        text-align: right;\n",
       "    }\n",
       "</style>\n",
       "<table border=\"1\" class=\"dataframe\">\n",
       "  <thead>\n",
       "    <tr style=\"text-align: right;\">\n",
       "      <th></th>\n",
       "      <th>descrip</th>\n",
       "      <th>cuenta</th>\n",
       "    </tr>\n",
       "  </thead>\n",
       "  <tbody>\n",
       "    <tr>\n",
       "      <th>0</th>\n",
       "      <td>None</td>\n",
       "      <td>5687</td>\n",
       "    </tr>\n",
       "    <tr>\n",
       "      <th>2</th>\n",
       "      <td>Ambos</td>\n",
       "      <td>1608</td>\n",
       "    </tr>\n",
       "    <tr>\n",
       "      <th>1</th>\n",
       "      <td>Sólo ella</td>\n",
       "      <td>1549</td>\n",
       "    </tr>\n",
       "  </tbody>\n",
       "</table>\n",
       "</div>"
      ],
      "text/plain": [
       "     descrip  cuenta\n",
       "0       None    5687\n",
       "2      Ambos    1608\n",
       "1  Sólo ella    1549"
      ]
     },
     "execution_count": 60,
     "metadata": {},
     "output_type": "execute_result"
    }
   ],
   "source": [
    "tables_7_4['4 si usa métodos anticonceptivos?']"
   ]
  },
  {
   "cell_type": "code",
   "execution_count": 61,
   "metadata": {},
   "outputs": [
    {
     "name": "stdout",
     "output_type": "stream",
     "text": [
      "1 si puede comprarse cosas para usted (ropa, accesorios, zapatos)?\n",
      "----------------------------------------\n",
      "                                 descrip  cuenta\n",
      "0                              Sólo ella    6939\n",
      "2                                  Ambos    1452\n",
      "4  Familiares (mamá, papá, hermanos(as))     424\n",
      "\n",
      "\n",
      "2 si puede salir de su casa?\n",
      "----------------------------------------\n",
      "                                 descrip  cuenta\n",
      "0                              Sólo ella    6091\n",
      "1                                  Ambos    1711\n",
      "3  Familiares (mamá, papá, hermanos(as))     804\n",
      "\n",
      "\n",
      "3 si puede reunirse con parientes o amistades?\n",
      "----------------------------------------\n",
      "                                 descrip  cuenta\n",
      "0                              Sólo ella    6093\n",
      "1                                  Ambos    2061\n",
      "4  Familiares (mamá, papá, hermanos(as))     580\n",
      "\n",
      "\n",
      "4 si usa métodos anticonceptivos?\n",
      "----------------------------------------\n",
      "     descrip  cuenta\n",
      "0       None    5687\n",
      "2      Ambos    1608\n",
      "1  Sólo ella    1549\n",
      "\n",
      "\n",
      "5 cuántos hijos tener?\n",
      "----------------------------------------\n",
      "     descrip  cuenta\n",
      "0       None    5687\n",
      "2      Ambos    2399\n",
      "1  Sólo ella     991\n",
      "\n",
      "\n"
     ]
    }
   ],
   "source": [
    "#print tables\n",
    "for i in range(0,5):\n",
    "    print(list(tables_7_4.keys())[i])\n",
    "    print('----------------------------------------')\n",
    "    print(list(tables_7_4.values())[i])\n",
    "    print(end='\\n')\n",
    "    print(end='\\n')\n"
   ]
  },
  {
   "cell_type": "markdown",
   "metadata": {},
   "source": [
    "Finally, for the last questions we carry out the same process as for questions 1 and 2"
   ]
  },
  {
   "cell_type": "code",
   "execution_count": 62,
   "metadata": {},
   "outputs": [],
   "source": [
    "#querys\n",
    "value_counts_pm7_5y6=[]\n",
    "for i in range(5,7):\n",
    "    query=\"\"\"SELECT c.descrip, COUNT(d.pm7_{}) as cuenta FROM pm7_{} as c RIGHT\n",
    "    JOIN conjunto_de_datos_tmujer_enadis_2017 as d\n",
    "    ON c.cve=d.pm7_{} GROUP BY d.pm7_{} \"\"\".format(i,i,i,i)\n",
    "    value_counts_pm7_5y6.append(query) "
   ]
  },
  {
   "cell_type": "code",
   "execution_count": 63,
   "metadata": {},
   "outputs": [
    {
     "name": "stderr",
     "output_type": "stream",
     "text": [
      "d:\\DIEGO\\anaconda3\\lib\\site-packages\\pandas\\io\\sql.py:761: UserWarning: pandas only support SQLAlchemy connectable(engine/connection) ordatabase string URI or sqlite3 DBAPI2 connectionother DBAPI2 objects are not tested, please consider using SQLAlchemy\n",
      "  warnings.warn(\n",
      "d:\\DIEGO\\anaconda3\\lib\\site-packages\\pandas\\io\\sql.py:761: UserWarning: pandas only support SQLAlchemy connectable(engine/connection) ordatabase string URI or sqlite3 DBAPI2 connectionother DBAPI2 objects are not tested, please consider using SQLAlchemy\n",
      "  warnings.warn(\n"
     ]
    },
    {
     "data": {
      "image/png": "[encoded data removed]",
      "text/plain": [
       "<Figure size 432x288 with 1 Axes>"
      ]
     },
     "metadata": {},
     "output_type": "display_data"
    }
   ],
   "source": [
    "\n",
    "preguntas_5y6={'pregunta7_5':'7.5 En los últimos cinco años, de agosto de 2012 a la fecha,\\n ¿Le ha sucedido que le den menor paga con respecto a un hombrepor realizar el mismo trabajo?','pregunta7_6':'7.6 Anteriormente registré que usted actualmente no trabaja,\\n ¿cuál es el motivo por el que no lo hace?'}\n",
    "i=0\n",
    "\n",
    "\n",
    "for query in value_counts_pm7_5y6:\n",
    "\n",
    "    #read querys to DataFrame\n",
    "    value_counts_pm7_5y6_plot=pd.read_sql(query,connection)\n",
    "    value_counts_pm7_5y6_plot=value_counts_pm7_5y6_plot.sort_values('cuenta', ascending=True)\n",
    "\n",
    "    #plot\n",
    "    plt.clf()\n",
    "    sns.barplot(x=value_counts_pm7_5y6_plot['cuenta'],\n",
    "                y=value_counts_pm7_5y6_plot['descrip'], \n",
    "                data=value_counts_pm7_5y6_plot,\n",
    "                palette='rocket_r'\n",
    "                ) \n",
    "\n",
    "    plt.xlabel('')\n",
    "    plt.ylabel('')\n",
    "    sns.despine()\n",
    "    plt.title(list(preguntas_5y6.values())[i],position=(0.5, 1.1))\n",
    "    plt.savefig('/DIEGO/Documents/CODIGO/Discriminación en mujeres/Gráficas/'+str(list(preguntas_5y6.keys())[i])+'.png',bbox_inches='tight')\n",
    "    i+=1\n"
   ]
  }
 ],
 "metadata": {
  "kernelspec": {
   "display_name": "Python 3.9.12 ('base')",
   "language": "python",
   "name": "python3"
  },
  "language_info": {
   "codemirror_mode": {
    "name": "ipython",
    "version": 3
   },
   "file_extension": ".py",
   "mimetype": "text/x-python",
   "name": "python",
   "nbconvert_exporter": "python",
   "pygments_lexer": "ipython3",
   "version": "3.9.12"
  },
  "orig_nbformat": 4,
  "vscode": {
   "interpreter": {
    "hash": "ef66bfd892a4ac60c7b36ec8b80311d96e23b644cddda3dfad520f730641d093"
   }
  }
 },
 "nbformat": 4,
 "nbformat_minor": 2
}
